{
    "cells": [
        {
            "attachments": {},
            "cell_type": "markdown",
            "metadata": {},
            "source": [
                "# Enviroweather Private Weather Stations Python package: `ewx_pws`\n",
                "## Example usage\n",
                "\n",
                "Using this package in a project to pull weather data you start as follows"
            ]
        },
        {
            "cell_type": "code",
            "execution_count": 1,
            "metadata": {},
            "outputs": [
                {
                    "name": "stdout",
                    "output_type": "stream",
                    "text": [
                        "0.1.0\n"
                    ]
                }
            ],
            "source": [
                "import json\n",
                "from pprint import pprint\n",
                "from ewx_pws import __version__, ewx_pws\n",
                "print(__version__)"
            ]
        },
        {
            "attachments": {},
            "cell_type": "markdown",
            "metadata": {},
            "source": [
                "This package works with the following station types:"
            ]
        },
        {
            "cell_type": "code",
            "execution_count": 2,
            "metadata": {},
            "outputs": [
                {
                    "name": "stdout",
                    "output_type": "stream",
                    "text": [
                        "['ZENTRA', 'ONSET', 'DAVIS', 'RAINWISE', 'SPECTRUM', 'LOCOMOS', 'GENERIC']\n"
                    ]
                }
            ],
            "source": [
                "print(ewx_pws.STATION_TYPE_LIST)"
            ]
        },
        {
            "attachments": {},
            "cell_type": "markdown",
            "metadata": {},
            "source": [
                "The main function accepts configuration information for one or more weather stations API (clouds), \n",
                "and uses that to connect to the API for that station and pull data for a specific time interval. \n",
                "\n",
                "The configuration can be saved in a CSV file or in the future in a database table. \n",
                "\n",
                "This example usage notebook assumes the values are in a CSV file named 'test_stations.csv'  Alter the variable for this file name\n",
                "to use a different file. \n",
                "\n",
                "The file must be in the format :  \n"
            ]
        },
        {
            "cell_type": "code",
            "execution_count": 4,
            "metadata": {},
            "outputs": [],
            "source": [
                "# this file must be present for the rest of the notebook to work.  You can create this file with any name, \n",
                "# but must be loaded here\n",
                "station_config_file = \"../test_stations.csv\""
            ]
        },
        {
            "cell_type": "code",
            "execution_count": 5,
            "metadata": {},
            "outputs": [
                {
                    "name": "stderr",
                    "output_type": "stream",
                    "text": [
                        "2023-09-12 14:30:41,015-10053-DEBUG-instantiating EWXDAVIS01\n",
                        "2023-09-12 14:30:41,016-10053-DEBUG-instantiating EWXSPECTRUM01\n",
                        "2023-09-12 14:30:41,017-10053-DEBUG-instantiating EWXONSET01\n",
                        "2023-09-12 14:30:41,017-10053-DEBUG-instantiating EWXRAINWISE01\n",
                        "2023-09-12 14:30:41,018-10053-DEBUG-instantiating EWXLOCOMOS06\n",
                        "2023-09-12 14:30:41,018-10053-DEBUG-instantiating EWXZENTRA01\n"
                    ]
                },
                {
                    "name": "stdout",
                    "output_type": "stream",
                    "text": [
                        "full station config:\n",
                        "station_id='EWXDAVIS01' install_date=datetime.datetime(2023, 5, 1, 0, 0) station_type='DAVIS' tz='ET' sn='117005' apikey='aoqdcbirudd1sarq6erfj6tgtw67sbvo' apisec='elvr77yhdx3p0286cwnnqqstdwqg8zxf'\n",
                        "station_id='EWXSPECTRUM01' install_date=datetime.datetime(2023, 5, 1, 0, 0) station_type='SPECTRUM' tz='ET' sn='50400123' apikey='11a5c3a939856b08677b7a072f8e6865'\n",
                        "station_id='EWXONSET01' install_date=datetime.datetime(2023, 5, 1, 0, 0) station_type='ONSET' tz='ET' sn='21092695' client_id='Enviroweather_WS' client_secret='75d2b7f58f5d0cac699f5b9616318be268057de6' ret_form='JSON' user_id='12848' sensor_sn={'atemp': '21079936-1', 'pcpn': '21085496-1', 'relh': '21079936-2'}\n",
                        "station_id='EWXRAINWISE01' install_date=datetime.datetime(2023, 5, 1, 0, 0) station_type='RAINWISE' tz='ET' username='200000000500' sid='66af9e2c2d360730fc4559aad6472056' pid='66af9e2c2d360730fc4559aad6472056' mac='200000000500' ret_form='json'\n",
                        "station_id='EWXLOCOMOS06' install_date=datetime.datetime(2023, 5, 1, 0, 0) station_type='LOCOMOS' tz='ET' token='BBFF-MMZJs422YNyUyA3sh3ePXKAnMZp7yz' id='62c588591d84724fcb41b255'\n",
                        "station_id='EWXZENTRA01' install_date=datetime.datetime(2023, 5, 1, 0, 0) station_type='ZENTRA' tz='ET' sn='z6-12564' token='5b8f637a718b9e3ad6e31eec81f0b51d91ac38bd'\n"
                    ]
                }
            ],
            "source": [
                "# load weather station configuration from an environment file\n",
                "stations = ewx_pws.station_dict_from_file(station_config_file)\n",
                "\n",
                "print(\"full station config:\")\n",
                "for station in stations.values():\n",
                "    print(station.config)"
            ]
        },
        {
            "cell_type": "code",
            "execution_count": 6,
            "metadata": {},
            "outputs": [
                {
                    "name": "stdout",
                    "output_type": "stream",
                    "text": [
                        "stations in config file:\n",
                        "----------\n",
                        "id:       EWXDAVIS01\n",
                        "type:     DAVIS\n",
                        "timezone: ET\n",
                        "sample interval: 15\n",
                        "----------\n",
                        "id:       EWXSPECTRUM01\n",
                        "type:     SPECTRUM\n",
                        "timezone: ET\n",
                        "sample interval: 5\n",
                        "----------\n",
                        "id:       EWXONSET01\n",
                        "type:     ONSET\n",
                        "timezone: ET\n",
                        "sample interval: 5\n",
                        "----------\n",
                        "id:       EWXRAINWISE01\n",
                        "type:     RAINWISE\n",
                        "timezone: ET\n",
                        "sample interval: 15\n",
                        "----------\n",
                        "id:       EWXLOCOMOS06\n",
                        "type:     LOCOMOS\n",
                        "timezone: ET\n",
                        "sample interval: 30\n",
                        "----------\n",
                        "id:       EWXZENTRA01\n",
                        "type:     ZENTRA\n",
                        "timezone: ET\n",
                        "sample interval: 5\n"
                    ]
                }
            ],
            "source": [
                "print(\"stations in config file:\")\n",
                "for station in stations.values():\n",
                "    print('----------')\n",
                "    print('id:      ', station.id)\n",
                "    print('type:    ', station.config.station_type)\n",
                "    print('timezone:', station.config.tz)\n",
                "    print('sample interval:', station.interval_min)\n",
                "\n"
            ]
        },
        {
            "attachments": {},
            "cell_type": "markdown",
            "metadata": {},
            "source": [
                "Get sample weather specifying a time interval.,  UTCInterval is a class that can create intervals of recent times, and ensure times created are UTC so The station classes only accept timestamps that have a timezone, and that timezone must be UTC.   "
            ]
        },
        {
            "cell_type": "code",
            "execution_count": 7,
            "metadata": {},
            "outputs": [],
            "source": [
                "# set the time \n",
                "from ewx_pws.time_intervals import UTCInterval\n",
                "interval = UTCInterval.previous_interval(delta_mins = 60)\n"
            ]
        },
        {
            "cell_type": "code",
            "execution_count": 8,
            "metadata": {},
            "outputs": [
                {
                    "name": "stderr",
                    "output_type": "stream",
                    "text": [
                        "2023-09-12 14:30:48,786-10053-DEBUG-Starting new HTTPS connection (1): zentracloud.com:443\n",
                        "2023-09-12 14:30:49,071-10053-DEBUG-https://zentracloud.com:443 \"GET /api/v3/get_readings?device_sn=z6-12564&start_date=2023-09-12+13%3A30%3A00-04%3A00&end_date=2023-09-12+14%3A30%3A00-04%3A00 HTTP/1.1\" 301 0\n",
                        "2023-09-12 14:30:52,437-10053-DEBUG-https://zentracloud.com:443 \"GET /api/v3/get_readings/?device_sn=z6-12564&start_date=2023-09-12+13%3A30%3A00-04%3A00&end_date=2023-09-12+14%3A30%3A00-04%3A00 HTTP/1.1\" 200 397\n"
                    ]
                },
                {
                    "name": "stdout",
                    "output_type": "stream",
                    "text": [
                        "WeatherAPIData(station_id='EWXZENTRA01', station_type='ZENTRA', request_id='82be2cdb-cc00-4fd8-8abb-f379ae4aec24', request_datetime=datetime.datetime(2023, 9, 12, 22, 30, 48, 754272, tzinfo=datetime.timezone.utc), time_interval=UTCInterval(start=datetime.datetime(2023, 9, 12, 17, 30, tzinfo=datetime.timezone.utc), end=datetime.datetime(2023, 9, 12, 18, 30, tzinfo=datetime.timezone.utc)), package_version='0.1', responses=[WeatherAPIResponse(url='https://zentracloud.com/api/v3/get_readings/?device_sn=z6-12564&start_date=2023-09-12+13%3A30%3A00-04%3A00&end_date=2023-09-12+14%3A30%3A00-04%3A00', status_code='200', reason='OK', text='{\"pagination\": {\"per_page\": 500, \"page_num\": 1, \"next_url\": \"https://zentracloud.com/api/v3/get_readings/?device_sn=z6-12564&start_date=2023-09-12+13%3A30%3A00-04%3A00&end_date=2023-09-12+14%3A30%3A00-04%3A00&page_num=2\", \"max_mrid\": 241543, \"page_num_readings\": 0, \"page_num_outputs\": 0, \"page_start_date\": null, \"page_end_date\": null, \"page_start_mrid\": null, \"page_end_mrid\": null}, \"data\": {}}', content=b'{\"pagination\": {\"per_page\": 500, \"page_num\": 1, \"next_url\": \"https://zentracloud.com/api/v3/get_readings/?device_sn=z6-12564&start_date=2023-09-12+13%3A30%3A00-04%3A00&end_date=2023-09-12+14%3A30%3A00-04%3A00&page_num=2\", \"max_mrid\": 241543, \"page_num_readings\": 0, \"page_num_outputs\": 0, \"page_start_date\": null, \"page_end_date\": null, \"page_start_mrid\": null, \"page_end_mrid\": null}, \"data\": {}}')])\n"
                    ]
                }
            ],
            "source": [
                "# get weather one station from the list.  test by changing the station_id with one from above\n",
                "station_id = 'EWXZENTRA01'\n",
                "station = stations[station_id]\n",
                "\n",
                "api_data = station.get_readings(interval.start, interval.end)\n",
                "pprint(api_data)\n"
            ]
        },
        {
            "cell_type": "markdown",
            "metadata": {},
            "source": [
                "The output uses a class WeatherReading which has metadata, and then a list of responses from the API.  Some APIs require multiple calls to the API for periods > 24 hours, so the responses are always stored in a list"
            ]
        },
        {
            "cell_type": "code",
            "execution_count": 9,
            "metadata": {},
            "outputs": [
                {
                    "name": "stdout",
                    "output_type": "stream",
                    "text": [
                        "('{\"pagination\": {\"per_page\": 500, \"page_num\": 1, \"next_url\": '\n",
                        " '\"https://zentracloud.com/api/v3/get_readings/?device_sn=z6-12564&start_date=2023-09-12+13%3A30%3A00-04%3A00&end_date=2023-09-12+14%3A30%3A00-04%3A00&page_num=2\", '\n",
                        " '\"max_mrid\": 241543, \"page_num_readings\": 0, \"page_num_outputs\": 0, '\n",
                        " '\"page_start_date\": null, \"page_end_date\": null, \"page_start_mrid\": null, '\n",
                        " '\"page_end_mrid\": null}, \"data\": {}}')\n"
                    ]
                }
            ],
            "source": [
                "for response in  api_data.responses:\n",
                "    pprint(response.text)"
            ]
        },
        {
            "cell_type": "markdown",
            "metadata": {},
            "source": [
                "## raw api output\n",
                "\n",
                "let's look at what comes out of the station API for our example station.  The actual data from the api is in the responses property of the weather_data object.  This is an array as some stations return an array of responses (Davis only allows maximum 24hrs per reading)\n",
                "\n",
                "The folllowing looks at just the first response in the array\n",
                "\n"
            ]
        },
        {
            "cell_type": "code",
            "execution_count": null,
            "metadata": {},
            "outputs": [],
            "source": [
                "\n",
                "# # get some JSON\n",
                "# raw_response = wdata.responses[0]\n",
                "# # convert that from JSON\n",
                "# # print(raw_response.text)\n",
                "# raw_response_data = json.loads(raw_response.text)\n",
                "# pprint(raw_response_data)"
            ]
        },
        {
            "attachments": {},
            "cell_type": "markdown",
            "metadata": {},
            "source": [
                "The output from the api is a mix of the JSON output from the stations and metadata about how the request for data was made.   Each station has it's own format from the API, and we want to transform that to a standardize format for EWX. \n",
                "\n",
                "The station object stores the most recent request, and can run the `transform` method without an argument, and it will to use the latest api request, or you can send data. \n",
                "\n"
            ]
        },
        {
            "cell_type": "code",
            "execution_count": 10,
            "metadata": {},
            "outputs": [
                {
                    "name": "stderr",
                    "output_type": "stream",
                    "text": [
                        "2023-09-12 14:31:40,081-10053-DEBUG-Zentra readings found\n",
                        "2023-09-12 14:31:40,082-10053-DEBUG-transformed_reading type <class 'dict_values'>: dict_values([])\n"
                    ]
                },
                {
                    "name": "stdout",
                    "output_type": "stream",
                    "text": [
                        "{'pagination': {'per_page': 500, 'page_num': 1, 'next_url': 'https://zentracloud.com/api/v3/get_readings/?device_sn=z6-12564&start_date=2023-09-12+13%3A30%3A00-04%3A00&end_date=2023-09-12+14%3A30%3A00-04%3A00&page_num=2', 'max_mrid': 241543, 'page_num_readings': 0, 'page_num_outputs': 0, 'page_start_date': None, 'page_end_date': None, 'page_start_mrid': None, 'page_end_mrid': None}, 'data': {}}\n",
                        "('readings', [])\n"
                    ]
                }
            ],
            "source": [
                "readings = station.transform(api_data)\n",
                "for reading in readings:\n",
                "    pprint(reading)"
            ]
        },
        {
            "cell_type": "code",
            "execution_count": 12,
            "metadata": {},
            "outputs": [
                {
                    "name": "stderr",
                    "output_type": "stream",
                    "text": [
                        "2023-09-12 14:33:56,790-10053-DEBUG-Zentra readings found\n"
                    ]
                },
                {
                    "name": "stdout",
                    "output_type": "stream",
                    "text": [
                        "{'pagination': {'per_page': 500, 'page_num': 1, 'next_url': 'https://zentracloud.com/api/v3/get_readings/?device_sn=z6-12564&start_date=2023-09-12+13%3A30%3A00-04%3A00&end_date=2023-09-12+14%3A30%3A00-04%3A00&page_num=2', 'max_mrid': 241543, 'page_num_readings': 0, 'page_num_outputs': 0, 'page_start_date': None, 'page_end_date': None, 'page_start_mrid': None, 'page_end_mrid': None}, 'data': {}}\n",
                        "dict_values([])\n"
                    ]
                }
            ],
            "source": [
                "for weather_api_response in api_data.responses:\n",
                "    # call station subclass to interpret response content into a list\n",
                "    tr =  station._transform(weather_api_response.text) # JSON str\n",
                "    pprint(tr)\n",
                "    \n",
                "# station._transform(api_data)"
            ]
        }
    ],
    "metadata": {
        "kernelspec": {
            "display_name": ".venv",
            "language": "python",
            "name": "python3"
        },
        "language_info": {
            "codemirror_mode": {
                "name": "ipython",
                "version": 3
            },
            "file_extension": ".py",
            "mimetype": "text/x-python",
            "name": "python",
            "nbconvert_exporter": "python",
            "pygments_lexer": "ipython3",
            "version": "3.9.18"
        },
        "vscode": {
            "interpreter": {
                "hash": "762296f1eebb6e68bf685992e8c86fe9560f818abe2dca4b71d4d6f028231e3f"
            }
        }
    },
    "nbformat": 4,
    "nbformat_minor": 4
}
