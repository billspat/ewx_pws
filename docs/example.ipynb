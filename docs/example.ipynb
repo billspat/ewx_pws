{
    "cells": [
        {
            "attachments": {},
            "cell_type": "markdown",
            "metadata": {},
            "source": [
                "# Enviroweather Private Weather Stations Python package: `ewx_pws`\n",
                "## Example usage\n",
                "\n",
                "Using this package in a project to pull weather data you start as follows"
            ]
        },
        {
            "cell_type": "code",
            "execution_count": 3,
            "metadata": {},
            "outputs": [
                {
                    "name": "stdout",
                    "output_type": "stream",
                    "text": [
                        "0.1.0\n"
                    ]
                }
            ],
            "source": [
                "\n",
                "from ewx_pws import __version__, ewx_pws\n",
                "\n",
                "print(__version__)"
            ]
        },
        {
            "attachments": {},
            "cell_type": "markdown",
            "metadata": {},
            "source": [
                "This package works with the following station types:"
            ]
        },
        {
            "cell_type": "code",
            "execution_count": 4,
            "metadata": {},
            "outputs": [
                {
                    "name": "stdout",
                    "output_type": "stream",
                    "text": [
                        "['DAVIS', 'CAMPBELL', 'ONSET', 'RAINWISE', 'SPECTRUM', 'ZENTRA']\n"
                    ]
                }
            ],
            "source": [
                "print(ewx_pws.STATION_TYPES)"
            ]
        },
        {
            "attachments": {},
            "cell_type": "markdown",
            "metadata": {},
            "source": [
                "The main function accepts configuration information for one or more weather stations API (clouds), \n",
                "and uses that to connect to the API for that station and pull data for a specific time interval. \n",
                "\n",
                "The configuration can be saved in a CSV file, in the environment (OS variables), or in the future in a database table. \n",
                "\n",
                "This example usage notebook assumes the values are in the environment.  This can be acheived by putting the \n",
                "configuration in a file named `.env` in the root of this folder.    See documentation for Python dotenv package for more info\n",
                "\n",
                "The file must be in the format :  (TBD)\n",
                "\n",
                "The main package automatically looks for and loads this file. "
            ]
        },
        {
            "cell_type": "code",
            "execution_count": 5,
            "metadata": {},
            "outputs": [],
            "source": [
                "# load weather station configuration from an environment file\n",
                "from dotenv import load_dotenv\n",
                "load_dotenv()\n",
                "stations = ewx_pws.stations_from_env()"
            ]
        },
        {
            "attachments": {},
            "cell_type": "markdown",
            "metadata": {},
            "source": [
                "Get sample weather from the previous 15 minute period (e.g. if it's 1:17, then from 1:00 to 1:15)"
            ]
        },
        {
            "cell_type": "code",
            "execution_count": 6,
            "metadata": {},
            "outputs": [
                {
                    "name": "stdout",
                    "output_type": "stream",
                    "text": [
                        "(datetime.datetime(2023, 2, 21, 15, 0, tzinfo=datetime.timezone.utc), datetime.datetime(2023, 2, 21, 15, 15, tzinfo=datetime.timezone.utc))\n",
                        "UTC Start date: 2023-02-21 15:00:00+00:00\n",
                        "Local time Start date: 2023-02-21 10:00:00-05:00\n",
                        "UTC End date: 2023-02-21 15:15:00+00:00, local time zone: ET\n",
                        "Local time End date: 2023-02-21 10:15:00-05:00\n",
                        "Parameter name: \"api-key\" has value \"aoqdcbirudd1sarq6erfj6tgtw67sbvo\"\n",
                        "Parameter name: \"end-timestamp\" has value \"1676992500\"\n",
                        "Parameter name: \"start-timestamp\" has value \"1676991600\"\n",
                        "Parameter name: \"station-id\" has value \"117005\"\n",
                        "Parameter name: \"t\" has value \"1676993084\"\n",
                        "Data string to hash is: \"api-keyaoqdcbirudd1sarq6erfj6tgtw67sbvoend-timestamp1676992500start-timestamp1676991600station-id117005t1676993084\"\n",
                        "API Signature is: \"f11171703e90585fe03e6a74da893f93111785fa418a62500c5a19c84863701d\"\n",
                        "(1676991600, 1676992500, 'f11171703e90585fe03e6a74da893f93111785fa418a62500c5a19c84863701d')\n",
                        "2023-02-21 15:05:00+00:00\n",
                        "2023-02-21 15:10:00+00:00\n",
                        "2023-02-21 15:15:00+00:00\n",
                        "UTC Start date: 2023-02-21 15:00:00+00:00\n",
                        "Explicit UTC time Start date: 2023-02-21 15:00:00+00:00\n",
                        "UTC End date: 2023-02-21 15:15:00+00:00\n",
                        "Explicit UTC time End date: 2023-02-21 15:15:00+00:00\n",
                        "client_id: \"Enviroweather_WS\"\n",
                        "client_secret: \"75d2b7f58f5d0cac699f5b9616318be268057de6\"\n",
                        "Auth response is \"{'access_token': '1b757efd871660060a61a66e13810f6a', 'token_type': 'bearer', 'expires_in': 600}\"\n",
                        "access_token: \"1b757efd871660060a61a66e13810f6a\"\n",
                        "2023-02-21 15:00:00+00:00\n",
                        "2023-02-21 15:05:00+00:00\n",
                        "2023-02-21 15:10:00+00:00\n",
                        "2023-02-21 15:15:00+00:00\n",
                        "About to do some shenanigans...\n",
                        "UTC Start date: 2023-02-21 15:00:00+00:00, local time zone: ET\n",
                        "Local time Start date: 2023-02-21 10:00:00-05:00\n",
                        "UTC End date: 2023-02-21 15:15:00+00:00, local time zone: ET\n",
                        "Local time End date: 2023-02-21 10:15:00-05:00\n",
                        "2023-02-21 15:00:00+00:00\n",
                        "2023-02-21 15:15:00+00:00\n",
                        "UTC Start date: 2023-02-21 15:00:00+00:00, local time zone: ET\n",
                        "Local time Start date: 2023-02-21 10:00:00\n",
                        "UTC End date: 2023-02-21 15:15:00+00:00, local time zone: ET\n",
                        "Local time End date: 2023-02-21 10:15:00\n",
                        "2023-02-21 15:00:00+00:00\n",
                        "2023-02-21 15:05:00+00:00\n",
                        "2023-02-21 15:10:00+00:00\n",
                        "UTC Start date: 2023-02-21 15:00:00+00:00, local time zone: ET\n",
                        "Local time Start date: 2023-02-21 10:00:00-05:00\n",
                        "UTC End date: 2023-02-21 15:15:00+00:00, local time zone: ET\n",
                        "Local time End date: 2023-02-21 10:15:00-05:00\n",
                        "2023-02-21 15:00:00+00:00\n",
                        "2023-02-21 15:05:00+00:00\n",
                        "2023-02-21 15:10:00+00:00\n",
                        "2023-02-21 15:15:00+00:00\n"
                    ]
                }
            ],
            "source": [
                "# get weather for these stations, leveraging the MultiweatherAPI python package\n",
                "\n",
                "weather_readings = ewx_pws.get_readings(stations)\n"
            ]
        },
        {
            "attachments": {},
            "cell_type": "markdown",
            "metadata": {},
            "source": [
                "The output from MultiweatherAPI is a mix of the JSON output from the stations, and transformed data.  \n",
                "\n",
                "let's look at just the transformed"
            ]
        },
        {
            "cell_type": "code",
            "execution_count": 8,
            "metadata": {},
            "outputs": [
                {
                    "name": "stdout",
                    "output_type": "stream",
                    "text": [
                        "Data from station DAVIS_1\n",
                        "----------\n",
                        "[{'station_id': '117005', 'request_datetime': '2023-02-21 10:24:44', 'data_datetime': '2023-02-21 15:05:00', 'atemp': -0.56, 'pcpn': 0.0, 'relh': 70.0}, {'station_id': '117005', 'request_datetime': '2023-02-21 10:24:44', 'data_datetime': '2023-02-21 15:10:00', 'atemp': -0.61, 'pcpn': 0.0, 'relh': 69.0}, {'station_id': '117005', 'request_datetime': '2023-02-21 10:24:44', 'data_datetime': '2023-02-21 15:15:00', 'atemp': -0.83, 'pcpn': 0.0, 'relh': 68.0}]\n",
                        "Data from station ONSET_1\n",
                        "----------\n",
                        "[{'station_id': None, 'request_datetime': None, 'data_datetime': '2023-02-21 15:00:00', 'atemp': None, 'pcpn': None, 'relh': None}, {'station_id': None, 'request_datetime': None, 'data_datetime': '2023-02-21 15:05:00', 'atemp': None, 'pcpn': None, 'relh': None}, {'station_id': None, 'request_datetime': None, 'data_datetime': '2023-02-21 15:10:00', 'atemp': None, 'pcpn': None, 'relh': None}, {'station_id': None, 'request_datetime': None, 'data_datetime': '2023-02-21 15:15:00', 'atemp': None, 'pcpn': None, 'relh': None}]\n",
                        "Data from station RAINWISE_1\n",
                        "----------\n",
                        "[{'station_id': '200000000500', 'request_datetime': '2023-02-21 10:24:45', 'data_datetime': '2023-02-21 15:00:00', 'atemp': 0.17, 'pcpn': 0.0, 'relh': 70.0}, {'station_id': '200000000500', 'request_datetime': '2023-02-21 10:24:45', 'data_datetime': '2023-02-21 15:15:00', 'atemp': -0.33, 'pcpn': 0.0, 'relh': 71.0}]\n",
                        "Data from station SPECTRUM_1\n",
                        "----------\n",
                        "[{'station_id': '50400123', 'request_datetime': '2023-02-21 10:24:46', 'data_datetime': '2023-02-21 15:00:00', 'atemp': -0.33, 'pcpn': 0.0, 'relh': 72.3}, {'station_id': '50400123', 'request_datetime': '2023-02-21 10:24:46', 'data_datetime': '2023-02-21 15:05:00', 'atemp': -0.39, 'pcpn': 0.0, 'relh': 72.9}, {'station_id': '50400123', 'request_datetime': '2023-02-21 10:24:46', 'data_datetime': '2023-02-21 15:10:00', 'atemp': -0.56, 'pcpn': 0.0, 'relh': 73.1}]\n",
                        "Data from station ZENTRA_1\n",
                        "----------\n",
                        "[{'station_id': 'z6-12564', 'request_datetime': '2023-02-21 10:24:46', 'data_datetime': '2023-02-21 15:00:00', 'atemp': -0.8, 'pcpn': 0.0, 'relh': 77.5}, {'station_id': 'z6-12564', 'request_datetime': '2023-02-21 10:24:46', 'data_datetime': '2023-02-21 15:05:00', 'atemp': -1.0, 'pcpn': 0.0, 'relh': 78.2}, {'station_id': 'z6-12564', 'request_datetime': '2023-02-21 10:24:46', 'data_datetime': '2023-02-21 15:10:00', 'atemp': -1.2, 'pcpn': 0.0, 'relh': 77.1}, {'station_id': 'z6-12564', 'request_datetime': '2023-02-21 10:24:46', 'data_datetime': '2023-02-21 15:15:00', 'atemp': -1.3, 'pcpn': 0.0, 'relh': 76.9}]\n"
                    ]
                }
            ],
            "source": [
                "for station_key in weather_readings:\n",
                "    reading = weather_readings[station_key]\n",
                "    print(f\"Data from station {reading['station_id']}\")\n",
                "    print(\"----------\")\n",
                "    print(reading['data'])\n",
                "    "
            ]
        }
    ],
    "metadata": {
        "kernelspec": {
            "display_name": ".venv",
            "language": "python",
            "name": "python3"
        },
        "language_info": {
            "codemirror_mode": {
                "name": "ipython",
                "version": 3
            },
            "file_extension": ".py",
            "mimetype": "text/x-python",
            "name": "python",
            "nbconvert_exporter": "python",
            "pygments_lexer": "ipython3",
            "version": "3.9.16"
        },
        "vscode": {
            "interpreter": {
                "hash": "762296f1eebb6e68bf685992e8c86fe9560f818abe2dca4b71d4d6f028231e3f"
            }
        }
    },
    "nbformat": 4,
    "nbformat_minor": 4
}
