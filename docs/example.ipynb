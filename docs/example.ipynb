{
    "cells": [
        {
            "attachments": {},
            "cell_type": "markdown",
            "metadata": {},
            "source": [
                "# Enviroweather Private Weather Stations Python package: `ewx_pws`\n",
                "## Example usage\n",
                "\n",
                "Using this package in a project to pull weather data you start as follows"
            ]
        },
        {
            "cell_type": "code",
            "execution_count": 1,
            "metadata": {},
            "outputs": [
                {
                    "name": "stdout",
                    "output_type": "stream",
                    "text": [
                        "0.1.0\n"
                    ]
                }
            ],
            "source": [
                "import json\n",
                "from pprint import pprint\n",
                "from ewx_pws import __version__, ewx_pws\n",
                "print(__version__)"
            ]
        },
        {
            "attachments": {},
            "cell_type": "markdown",
            "metadata": {},
            "source": [
                "This package works with the following station types:"
            ]
        },
        {
            "cell_type": "code",
            "execution_count": 2,
            "metadata": {},
            "outputs": [
                {
                    "name": "stdout",
                    "output_type": "stream",
                    "text": [
                        "['ZENTRA', 'ONSET', 'DAVIS', 'RAINWISE', 'SPECTRUM', 'LOCOMOS', 'GENERIC']\n"
                    ]
                }
            ],
            "source": [
                "print(ewx_pws.STATION_TYPE_LIST)"
            ]
        },
        {
            "attachments": {},
            "cell_type": "markdown",
            "metadata": {},
            "source": [
                "The main function accepts configuration information for one or more weather stations API (clouds), \n",
                "and uses that to connect to the API for that station and pull data for a specific time interval. \n",
                "\n",
                "The configuration can be saved in a CSV file or in the future in a database table. \n",
                "\n",
                "This example usage notebook assumes the values are in a CSV file named 'test_stations.csv'  Alter the variable for this file name\n",
                "to use a different file. \n",
                "\n",
                "The file must be in the format :  \n"
            ]
        },
        {
            "cell_type": "code",
            "execution_count": 3,
            "metadata": {},
            "outputs": [],
            "source": [
                "# this file must be present for the rest of the notebook to work.  You can create this file with any name, \n",
                "# but must be loaded here\n",
                "station_config_file = \"../test_stations.csv\""
            ]
        },
        {
            "cell_type": "code",
            "execution_count": 4,
            "metadata": {},
            "outputs": [
                {
                    "name": "stderr",
                    "output_type": "stream",
                    "text": [
                        "2023-09-11 14:06:29,324-7769-DEBUG-instantiating EWXZENTRA01\n",
                        "2023-09-11 14:06:29,325-7769-DEBUG-instantiating EWXDAVIS01\n",
                        "2023-09-11 14:06:29,326-7769-DEBUG-instantiating EWXSPECTRUM01\n",
                        "2023-09-11 14:06:29,326-7769-DEBUG-instantiating EWXONSET01\n",
                        "2023-09-11 14:06:29,326-7769-DEBUG-instantiating EWXRAINWISE01\n",
                        "2023-09-11 14:06:29,327-7769-DEBUG-instantiating EWXLOCOMOS06\n"
                    ]
                },
                {
                    "name": "stdout",
                    "output_type": "stream",
                    "text": [
                        "full station config:\n",
                        "station_id='EWXZENTRA01' install_date=datetime.datetime(2023, 5, 1, 0, 0) station_type='ZENTRA' tz='ET' sn='z6-12564' token='5b8f637a718b9e3ad6e31eec81f0b51d91ac38bd'\n",
                        "station_id='EWXDAVIS01' install_date=datetime.datetime(2023, 5, 1, 0, 0) station_type='DAVIS' tz='ET' sn='117005' apikey='aoqdcbirudd1sarq6erfj6tgtw67sbvo' apisec='elvr77yhdx3p0286cwnnqqstdwqg8zxf'\n",
                        "station_id='EWXSPECTRUM01' install_date=datetime.datetime(2023, 5, 1, 0, 0) station_type='SPECTRUM' tz='ET' sn='50400123' apikey='11a5c3a939856b08677b7a072f8e6865'\n",
                        "station_id='EWXONSET01' install_date=datetime.datetime(2023, 5, 1, 0, 0) station_type='ONSET' tz='ET' sn='21092695' client_id='Enviroweather_WS' client_secret='75d2b7f58f5d0cac699f5b9616318be268057de6' ret_form='JSON' user_id='12848' sensor_sn={'atemp': '21079936-1', 'pcpn': '21085496-1', 'relh': '21079936-2'}\n",
                        "station_id='EWXRAINWISE01' install_date=datetime.datetime(2023, 5, 1, 0, 0) station_type='RAINWISE' tz='ET' username='200000000500' sid='66af9e2c2d360730fc4559aad6472056' pid='66af9e2c2d360730fc4559aad6472056' mac='200000000500' ret_form='json'\n",
                        "station_id='EWXLOCOMOS06' install_date=datetime.datetime(2023, 5, 1, 0, 0) station_type='LOCOMOS' tz='ET' token='BBFF-MMZJs422YNyUyA3sh3ePXKAnMZp7yz' id='62c588591d84724fcb41b255'\n"
                    ]
                }
            ],
            "source": [
                "# load weather station configuration from an environment file\n",
                "stations = ewx_pws.station_dict_from_file(station_config_file)\n",
                "\n",
                "print(\"full station config:\")\n",
                "for station in stations.values():\n",
                "    print(station.config)"
            ]
        },
        {
            "cell_type": "code",
            "execution_count": 5,
            "metadata": {},
            "outputs": [
                {
                    "name": "stdout",
                    "output_type": "stream",
                    "text": [
                        "stations in config file:\n",
                        "----------\n",
                        "id:       EWXZENTRA01\n",
                        "type:     ZENTRA\n",
                        "timezone: ET\n",
                        "sample interval: 5\n",
                        "----------\n",
                        "id:       EWXDAVIS01\n",
                        "type:     DAVIS\n",
                        "timezone: ET\n",
                        "sample interval: 15\n",
                        "----------\n",
                        "id:       EWXSPECTRUM01\n",
                        "type:     SPECTRUM\n",
                        "timezone: ET\n",
                        "sample interval: 5\n",
                        "----------\n",
                        "id:       EWXONSET01\n",
                        "type:     ONSET\n",
                        "timezone: ET\n",
                        "sample interval: 5\n",
                        "----------\n",
                        "id:       EWXRAINWISE01\n",
                        "type:     RAINWISE\n",
                        "timezone: ET\n",
                        "sample interval: 15\n",
                        "----------\n",
                        "id:       EWXLOCOMOS06\n",
                        "type:     LOCOMOS\n",
                        "timezone: ET\n",
                        "sample interval: 30\n"
                    ]
                }
            ],
            "source": [
                "print(\"stations in config file:\")\n",
                "for station in stations.values():\n",
                "    print('----------')\n",
                "    print('id:      ', station.id)\n",
                "    print('type:    ', station.config.station_type)\n",
                "    print('timezone:', station.config.tz)\n",
                "    print('sample interval:', station.interval_min)\n",
                "\n"
            ]
        },
        {
            "attachments": {},
            "cell_type": "markdown",
            "metadata": {},
            "source": [
                "Get sample weather without sending an interval of time, which uses the default: the previous 15 minute period (e.g. if it's 1:17, then from 1:00 to 1:15)"
            ]
        },
        {
            "cell_type": "code",
            "execution_count": 6,
            "metadata": {},
            "outputs": [
                {
                    "name": "stderr",
                    "output_type": "stream",
                    "text": [
                        "2023-09-11 14:06:35,209-7769-DEBUG-Starting new HTTP connection (1): api.rainwise.net:80\n",
                        "2023-09-11 14:06:35,311-7769-DEBUG-http://api.rainwise.net:80 \"GET /main/v1.5/registered/get-historical.php?username=200000000500&sid=66af9e2c2d360730fc4559aad6472056&pid=66af9e2c2d360730fc4559aad6472056&mac=200000000500&format=json&interval=1&sdate=2023-09-11+13%3A45%3A00-04%3A00&edate=2023-09-11+14%3A00%3A00-04%3A00 HTTP/1.1\" 200 1067\n"
                    ]
                },
                {
                    "name": "stdout",
                    "output_type": "stream",
                    "text": [
                        "station_id='EWXRAINWISE01' station_type='RAINWISE' request_id='e9c8d38e-9574-4696-b164-4bbd52e24b64' request_datetime=datetime.datetime(2023, 9, 11, 22, 6, 35, 199866, tzinfo=datetime.timezone.utc) time_interval=UTCInterval(start=datetime.datetime(2023, 9, 11, 17, 45, tzinfo=datetime.timezone.utc), end=datetime.datetime(2023, 9, 11, 18, 0, tzinfo=datetime.timezone.utc)) package_version='0.1' responses=[WeatherAPIResponse(url='http://api.rainwise.net/main/v1.5/registered/get-historical.php?username=200000000500&sid=66af9e2c2d360730fc4559aad6472056&pid=66af9e2c2d360730fc4559aad6472056&mac=200000000500&format=json&interval=1&sdate=2023-09-11+13%3A45%3A00-04%3A00&edate=2023-09-11+14%3A00%3A00-04%3A00', status_code='200', reason='OK', text='{\"station_id\":\"200000000500\",\"interval\":\"1\",\"startts\":\"2023-09-11 13:45:00\",\"endts\":\"2023-09-11 14:00:00\",\"units\":\"English\",\"times\":{\"o0\":\"2023-09-11 13:45:00\",\"o1\":\"2023-09-11 14:00:00\"},\"temp\":{\"o0\":\"67.4\",\"o1\":\"67.2\"},\"temp_lo\":{\"o0\":\"0\",\"o1\":\"0\"},\"temp_hi\":{\"o0\":\"0\",\"o1\":\"0\"},\"itemp\":{\"o0\":\"0\",\"o1\":\"0\"},\"itemp_lo\":{\"o0\":\"0\",\"o1\":\"0\"},\"itemp_hi\":{\"o0\":\"0\",\"o1\":\"0\"},\"hum\":{\"o0\":\"83\",\"o1\":\"84\"},\"hum_lo\":{\"o0\":{},\"o1\":{}},\"hum_hi\":{\"o0\":{},\"o1\":{}},\"pressure\":{\"o0\":\"29.289\",\"o1\":\"29.29\"},\"pressure_lo\":{\"o0\":\"0\",\"o1\":\"0\"},\"pressure_hi\":{\"o0\":\"0\",\"o1\":\"0\"},\"windchill\":{\"o0\":\"67.4\",\"o1\":\"67.2\"},\"dewpoint\":{\"o0\":\"62.1\",\"o1\":\"62.2\"},\"wind\":{\"o0\":\"1.2\",\"o1\":\"1.4\"},\"wind_gust\":{\"o0\":\"3.7\",\"o1\":\"4.4\"},\"wind_dir\":{\"o0\":\"215\",\"o1\":\"233\"},\"uv\":{\"o0\":{},\"o1\":{}},\"leaf_wetness\":{\"o0\":\"368\",\"o1\":\"383\"},\"heat_index\":{\"o0\":\"674\",\"o1\":\"672\"},\"precip\":{\"o0\":\"0\",\"o1\":\"0\"},\"solar_radiation\":{\"o0\":\"147\",\"o1\":\"109\"},\"temperature_1\":{\"o0\":\"66.3\",\"o1\":\"66.3\"},\"temperature_1_lo\":{\"o0\":\"0\",\"o1\":\"0\"},\"temperature_1_hi\":{\"o0\":\"0\",\"o1\":\"0\"},\"soil_tension\":{\"o0\":\"35\",\"o1\":\"36\"}}\\r\\n', content=b'{\"station_id\":\"200000000500\",\"interval\":\"1\",\"startts\":\"2023-09-11 13:45:00\",\"endts\":\"2023-09-11 14:00:00\",\"units\":\"English\",\"times\":{\"o0\":\"2023-09-11 13:45:00\",\"o1\":\"2023-09-11 14:00:00\"},\"temp\":{\"o0\":\"67.4\",\"o1\":\"67.2\"},\"temp_lo\":{\"o0\":\"0\",\"o1\":\"0\"},\"temp_hi\":{\"o0\":\"0\",\"o1\":\"0\"},\"itemp\":{\"o0\":\"0\",\"o1\":\"0\"},\"itemp_lo\":{\"o0\":\"0\",\"o1\":\"0\"},\"itemp_hi\":{\"o0\":\"0\",\"o1\":\"0\"},\"hum\":{\"o0\":\"83\",\"o1\":\"84\"},\"hum_lo\":{\"o0\":{},\"o1\":{}},\"hum_hi\":{\"o0\":{},\"o1\":{}},\"pressure\":{\"o0\":\"29.289\",\"o1\":\"29.29\"},\"pressure_lo\":{\"o0\":\"0\",\"o1\":\"0\"},\"pressure_hi\":{\"o0\":\"0\",\"o1\":\"0\"},\"windchill\":{\"o0\":\"67.4\",\"o1\":\"67.2\"},\"dewpoint\":{\"o0\":\"62.1\",\"o1\":\"62.2\"},\"wind\":{\"o0\":\"1.2\",\"o1\":\"1.4\"},\"wind_gust\":{\"o0\":\"3.7\",\"o1\":\"4.4\"},\"wind_dir\":{\"o0\":\"215\",\"o1\":\"233\"},\"uv\":{\"o0\":{},\"o1\":{}},\"leaf_wetness\":{\"o0\":\"368\",\"o1\":\"383\"},\"heat_index\":{\"o0\":\"674\",\"o1\":\"672\"},\"precip\":{\"o0\":\"0\",\"o1\":\"0\"},\"solar_radiation\":{\"o0\":\"147\",\"o1\":\"109\"},\"temperature_1\":{\"o0\":\"66.3\",\"o1\":\"66.3\"},\"temperature_1_lo\":{\"o0\":\"0\",\"o1\":\"0\"},\"temperature_1_hi\":{\"o0\":\"0\",\"o1\":\"0\"},\"soil_tension\":{\"o0\":\"35\",\"o1\":\"36\"}}\\r\\n')]\n"
                    ]
                }
            ],
            "source": [
                "# get weather for these stations, leveraging the MultiweatherAPI python package\n",
                "# pick one station from the list\n",
                "station_id = 'EWXRAINWISE01'\n",
                "station = stations[station_id]\n",
                "wdata = station.get_readings()\n",
                "print(wdata)\n"
            ]
        },
        {
            "cell_type": "markdown",
            "metadata": {},
            "source": [
                "The output uses a class WeatherReading which has metadata, and then a list of responses from the API.  Some APIs require multiple calls to the API for periods > 24 hours, so the responses are always stored in a list"
            ]
        },
        {
            "cell_type": "code",
            "execution_count": 7,
            "metadata": {},
            "outputs": [
                {
                    "name": "stdout",
                    "output_type": "stream",
                    "text": [
                        "url='http://api.rainwise.net/main/v1.5/registered/get-historical.php?username=200000000500&sid=66af9e2c2d360730fc4559aad6472056&pid=66af9e2c2d360730fc4559aad6472056&mac=200000000500&format=json&interval=1&sdate=2023-09-11+13%3A45%3A00-04%3A00&edate=2023-09-11+14%3A00%3A00-04%3A00' status_code='200' reason='OK' text='{\"station_id\":\"200000000500\",\"interval\":\"1\",\"startts\":\"2023-09-11 13:45:00\",\"endts\":\"2023-09-11 14:00:00\",\"units\":\"English\",\"times\":{\"o0\":\"2023-09-11 13:45:00\",\"o1\":\"2023-09-11 14:00:00\"},\"temp\":{\"o0\":\"67.4\",\"o1\":\"67.2\"},\"temp_lo\":{\"o0\":\"0\",\"o1\":\"0\"},\"temp_hi\":{\"o0\":\"0\",\"o1\":\"0\"},\"itemp\":{\"o0\":\"0\",\"o1\":\"0\"},\"itemp_lo\":{\"o0\":\"0\",\"o1\":\"0\"},\"itemp_hi\":{\"o0\":\"0\",\"o1\":\"0\"},\"hum\":{\"o0\":\"83\",\"o1\":\"84\"},\"hum_lo\":{\"o0\":{},\"o1\":{}},\"hum_hi\":{\"o0\":{},\"o1\":{}},\"pressure\":{\"o0\":\"29.289\",\"o1\":\"29.29\"},\"pressure_lo\":{\"o0\":\"0\",\"o1\":\"0\"},\"pressure_hi\":{\"o0\":\"0\",\"o1\":\"0\"},\"windchill\":{\"o0\":\"67.4\",\"o1\":\"67.2\"},\"dewpoint\":{\"o0\":\"62.1\",\"o1\":\"62.2\"},\"wind\":{\"o0\":\"1.2\",\"o1\":\"1.4\"},\"wind_gust\":{\"o0\":\"3.7\",\"o1\":\"4.4\"},\"wind_dir\":{\"o0\":\"215\",\"o1\":\"233\"},\"uv\":{\"o0\":{},\"o1\":{}},\"leaf_wetness\":{\"o0\":\"368\",\"o1\":\"383\"},\"heat_index\":{\"o0\":\"674\",\"o1\":\"672\"},\"precip\":{\"o0\":\"0\",\"o1\":\"0\"},\"solar_radiation\":{\"o0\":\"147\",\"o1\":\"109\"},\"temperature_1\":{\"o0\":\"66.3\",\"o1\":\"66.3\"},\"temperature_1_lo\":{\"o0\":\"0\",\"o1\":\"0\"},\"temperature_1_hi\":{\"o0\":\"0\",\"o1\":\"0\"},\"soil_tension\":{\"o0\":\"35\",\"o1\":\"36\"}}\\r\\n' content=b'{\"station_id\":\"200000000500\",\"interval\":\"1\",\"startts\":\"2023-09-11 13:45:00\",\"endts\":\"2023-09-11 14:00:00\",\"units\":\"English\",\"times\":{\"o0\":\"2023-09-11 13:45:00\",\"o1\":\"2023-09-11 14:00:00\"},\"temp\":{\"o0\":\"67.4\",\"o1\":\"67.2\"},\"temp_lo\":{\"o0\":\"0\",\"o1\":\"0\"},\"temp_hi\":{\"o0\":\"0\",\"o1\":\"0\"},\"itemp\":{\"o0\":\"0\",\"o1\":\"0\"},\"itemp_lo\":{\"o0\":\"0\",\"o1\":\"0\"},\"itemp_hi\":{\"o0\":\"0\",\"o1\":\"0\"},\"hum\":{\"o0\":\"83\",\"o1\":\"84\"},\"hum_lo\":{\"o0\":{},\"o1\":{}},\"hum_hi\":{\"o0\":{},\"o1\":{}},\"pressure\":{\"o0\":\"29.289\",\"o1\":\"29.29\"},\"pressure_lo\":{\"o0\":\"0\",\"o1\":\"0\"},\"pressure_hi\":{\"o0\":\"0\",\"o1\":\"0\"},\"windchill\":{\"o0\":\"67.4\",\"o1\":\"67.2\"},\"dewpoint\":{\"o0\":\"62.1\",\"o1\":\"62.2\"},\"wind\":{\"o0\":\"1.2\",\"o1\":\"1.4\"},\"wind_gust\":{\"o0\":\"3.7\",\"o1\":\"4.4\"},\"wind_dir\":{\"o0\":\"215\",\"o1\":\"233\"},\"uv\":{\"o0\":{},\"o1\":{}},\"leaf_wetness\":{\"o0\":\"368\",\"o1\":\"383\"},\"heat_index\":{\"o0\":\"674\",\"o1\":\"672\"},\"precip\":{\"o0\":\"0\",\"o1\":\"0\"},\"solar_radiation\":{\"o0\":\"147\",\"o1\":\"109\"},\"temperature_1\":{\"o0\":\"66.3\",\"o1\":\"66.3\"},\"temperature_1_lo\":{\"o0\":\"0\",\"o1\":\"0\"},\"temperature_1_hi\":{\"o0\":\"0\",\"o1\":\"0\"},\"soil_tension\":{\"o0\":\"35\",\"o1\":\"36\"}}\\r\\n'\n",
                        "this is the 'text' usually in json format, from the station\n",
                        "{\"station_id\":\"200000000500\",\"interval\":\"1\",\"startts\":\"2023-09-11 13:45:00\",\"endts\":\"2023-09-11 14:00:00\",\"units\":\"English\",\"times\":{\"o0\":\"2023-09-11 13:45:00\",\"o1\":\"2023-09-11 14:00:00\"},\"temp\":{\"o0\":\"67.4\",\"o1\":\"67.2\"},\"temp_lo\":{\"o0\":\"0\",\"o1\":\"0\"},\"temp_hi\":{\"o0\":\"0\",\"o1\":\"0\"},\"itemp\":{\"o0\":\"0\",\"o1\":\"0\"},\"itemp_lo\":{\"o0\":\"0\",\"o1\":\"0\"},\"itemp_hi\":{\"o0\":\"0\",\"o1\":\"0\"},\"hum\":{\"o0\":\"83\",\"o1\":\"84\"},\"hum_lo\":{\"o0\":{},\"o1\":{}},\"hum_hi\":{\"o0\":{},\"o1\":{}},\"pressure\":{\"o0\":\"29.289\",\"o1\":\"29.29\"},\"pressure_lo\":{\"o0\":\"0\",\"o1\":\"0\"},\"pressure_hi\":{\"o0\":\"0\",\"o1\":\"0\"},\"windchill\":{\"o0\":\"67.4\",\"o1\":\"67.2\"},\"dewpoint\":{\"o0\":\"62.1\",\"o1\":\"62.2\"},\"wind\":{\"o0\":\"1.2\",\"o1\":\"1.4\"},\"wind_gust\":{\"o0\":\"3.7\",\"o1\":\"4.4\"},\"wind_dir\":{\"o0\":\"215\",\"o1\":\"233\"},\"uv\":{\"o0\":{},\"o1\":{}},\"leaf_wetness\":{\"o0\":\"368\",\"o1\":\"383\"},\"heat_index\":{\"o0\":\"674\",\"o1\":\"672\"},\"precip\":{\"o0\":\"0\",\"o1\":\"0\"},\"solar_radiation\":{\"o0\":\"147\",\"o1\":\"109\"},\"temperature_1\":{\"o0\":\"66.3\",\"o1\":\"66.3\"},\"temperature_1_lo\":{\"o0\":\"0\",\"o1\":\"0\"},\"temperature_1_hi\":{\"o0\":\"0\",\"o1\":\"0\"},\"soil_tension\":{\"o0\":\"35\",\"o1\":\"36\"}}\n",
                        "\n"
                    ]
                }
            ],
            "source": [
                "output_from_api = wdata.responses[0]\n",
                "print(output_from_api)  # response object from requests lib\n",
                "print(\"this is the 'text' usually in json format, from the station\")\n",
                "# see the 'requests' doc for more about how to use the response object (link).  \n",
                "print(output_from_api.text)\n"
            ]
        },
        {
            "cell_type": "markdown",
            "metadata": {},
            "source": [
                "However, we probably want to specify the timer interval, so there is a function for creating that.   The station classes only accept timestamps that have a timezone, and that timezone must be UTC.   Most non-UTC timezones are affected by daylight svings, but now UtC.  \n"
            ]
        },
        {
            "cell_type": "code",
            "execution_count": 12,
            "metadata": {},
            "outputs": [
                {
                    "name": "stdout",
                    "output_type": "stream",
                    "text": [
                        "start=datetime.datetime(2023, 9, 11, 17, 0, tzinfo=datetime.timezone.utc) end=datetime.datetime(2023, 9, 11, 18, 0, tzinfo=datetime.timezone.utc)\n"
                    ]
                }
            ],
            "source": [
                "import datetime\n",
                "from ewx_pws.time_intervals import UTCInterval\n",
                "# get an hour interval: \n",
                "interval = UTCInterval.previous_interval(delta_mins = 60)\n",
                "print(interval)\n"
            ]
        },
        {
            "cell_type": "code",
            "execution_count": 13,
            "metadata": {},
            "outputs": [
                {
                    "name": "stderr",
                    "output_type": "stream",
                    "text": [
                        "2023-09-11 14:07:12,666-7769-DEBUG-Starting new HTTP connection (1): api.rainwise.net:80\n",
                        "2023-09-11 14:07:12,768-7769-DEBUG-http://api.rainwise.net:80 \"GET /main/v1.5/registered/get-historical.php?username=200000000500&sid=66af9e2c2d360730fc4559aad6472056&pid=66af9e2c2d360730fc4559aad6472056&mac=200000000500&format=json&interval=1&sdate=2023-09-11+13%3A00%3A00-04%3A00&edate=2023-09-11+14%3A00%3A00-04%3A00 HTTP/1.1\" 200 1934\n"
                    ]
                },
                {
                    "name": "stdout",
                    "output_type": "stream",
                    "text": [
                        "station_id='EWXRAINWISE01' station_type='RAINWISE' request_id='189726e8-6480-4b0d-84c4-f8345687b876' request_datetime=datetime.datetime(2023, 9, 11, 22, 7, 12, 663571, tzinfo=datetime.timezone.utc) time_interval=UTCInterval(start=datetime.datetime(2023, 9, 11, 17, 0, tzinfo=datetime.timezone.utc), end=datetime.datetime(2023, 9, 11, 18, 0, tzinfo=datetime.timezone.utc)) package_version='0.1' responses=[WeatherAPIResponse(url='http://api.rainwise.net/main/v1.5/registered/get-historical.php?username=200000000500&sid=66af9e2c2d360730fc4559aad6472056&pid=66af9e2c2d360730fc4559aad6472056&mac=200000000500&format=json&interval=1&sdate=2023-09-11+13%3A00%3A00-04%3A00&edate=2023-09-11+14%3A00%3A00-04%3A00', status_code='200', reason='OK', text='{\"station_id\":\"200000000500\",\"interval\":\"1\",\"startts\":\"2023-09-11 13:00:00\",\"endts\":\"2023-09-11 14:00:00\",\"units\":\"English\",\"times\":{\"o0\":\"2023-09-11 13:00:00\",\"o1\":\"2023-09-11 13:15:00\",\"o2\":\"2023-09-11 13:30:00\",\"o3\":\"2023-09-11 13:45:00\",\"o4\":\"2023-09-11 14:00:00\"},\"temp\":{\"o0\":\"66.1\",\"o1\":\"67.1\",\"o2\":\"67.7\",\"o3\":\"67.4\",\"o4\":\"67.2\"},\"temp_lo\":{\"o0\":\"0\",\"o1\":\"0\",\"o2\":\"0\",\"o3\":\"0\",\"o4\":\"0\"},\"temp_hi\":{\"o0\":\"0\",\"o1\":\"0\",\"o2\":\"0\",\"o3\":\"0\",\"o4\":\"0\"},\"itemp\":{\"o0\":\"0\",\"o1\":\"0\",\"o2\":\"0\",\"o3\":\"0\",\"o4\":\"0\"},\"itemp_lo\":{\"o0\":\"0\",\"o1\":\"0\",\"o2\":\"0\",\"o3\":\"0\",\"o4\":\"0\"},\"itemp_hi\":{\"o0\":\"0\",\"o1\":\"0\",\"o2\":\"0\",\"o3\":\"0\",\"o4\":\"0\"},\"hum\":{\"o0\":\"86\",\"o1\":\"87\",\"o2\":\"84\",\"o3\":\"83\",\"o4\":\"84\"},\"hum_lo\":{\"o0\":{},\"o1\":{},\"o2\":{},\"o3\":{},\"o4\":{}},\"hum_hi\":{\"o0\":{},\"o1\":{},\"o2\":{},\"o3\":{},\"o4\":{}},\"pressure\":{\"o0\":\"29.284\",\"o1\":\"29.283\",\"o2\":\"29.287\",\"o3\":\"29.289\",\"o4\":\"29.29\"},\"pressure_lo\":{\"o0\":\"0\",\"o1\":\"0\",\"o2\":\"0\",\"o3\":\"0\",\"o4\":\"0\"},\"pressure_hi\":{\"o0\":\"0\",\"o1\":\"0\",\"o2\":\"0\",\"o3\":\"0\",\"o4\":\"0\"},\"windchill\":{\"o0\":\"66.1\",\"o1\":\"67.1\",\"o2\":\"67.7\",\"o3\":\"67.4\",\"o4\":\"67.2\"},\"dewpoint\":{\"o0\":\"61.8\",\"o1\":\"63.1\",\"o2\":\"62.7\",\"o3\":\"62.1\",\"o4\":\"62.2\"},\"wind\":{\"o0\":\"0.9\",\"o1\":\"0.4\",\"o2\":\"1.4\",\"o3\":\"1.2\",\"o4\":\"1.4\"},\"wind_gust\":{\"o0\":\"3.7\",\"o1\":\"3.7\",\"o2\":\"5.6\",\"o3\":\"3.7\",\"o4\":\"4.4\"},\"wind_dir\":{\"o0\":\"199\",\"o1\":\"208\",\"o2\":\"218\",\"o3\":\"215\",\"o4\":\"233\"},\"uv\":{\"o0\":{},\"o1\":{},\"o2\":{},\"o3\":{},\"o4\":{}},\"leaf_wetness\":{\"o0\":\"323\",\"o1\":\"338\",\"o2\":\"353\",\"o3\":\"368\",\"o4\":\"383\"},\"heat_index\":{\"o0\":\"661\",\"o1\":\"671\",\"o2\":\"677\",\"o3\":\"674\",\"o4\":\"672\"},\"precip\":{\"o0\":\"0\",\"o1\":\"0\",\"o2\":\"0\",\"o3\":\"0\",\"o4\":\"0\"},\"solar_radiation\":{\"o0\":\"219\",\"o1\":\"287\",\"o2\":\"170\",\"o3\":\"147\",\"o4\":\"109\"},\"temperature_1\":{\"o0\":\"65.9\",\"o1\":\"65.9\",\"o2\":\"66.1\",\"o3\":\"66.3\",\"o4\":\"66.3\"},\"temperature_1_lo\":{\"o0\":\"0\",\"o1\":\"0\",\"o2\":\"0\",\"o3\":\"0\",\"o4\":\"0\"},\"temperature_1_hi\":{\"o0\":\"0\",\"o1\":\"0\",\"o2\":\"0\",\"o3\":\"0\",\"o4\":\"0\"},\"soil_tension\":{\"o0\":\"35\",\"o1\":\"36\",\"o2\":\"35\",\"o3\":\"35\",\"o4\":\"36\"}}\\r\\n', content=b'{\"station_id\":\"200000000500\",\"interval\":\"1\",\"startts\":\"2023-09-11 13:00:00\",\"endts\":\"2023-09-11 14:00:00\",\"units\":\"English\",\"times\":{\"o0\":\"2023-09-11 13:00:00\",\"o1\":\"2023-09-11 13:15:00\",\"o2\":\"2023-09-11 13:30:00\",\"o3\":\"2023-09-11 13:45:00\",\"o4\":\"2023-09-11 14:00:00\"},\"temp\":{\"o0\":\"66.1\",\"o1\":\"67.1\",\"o2\":\"67.7\",\"o3\":\"67.4\",\"o4\":\"67.2\"},\"temp_lo\":{\"o0\":\"0\",\"o1\":\"0\",\"o2\":\"0\",\"o3\":\"0\",\"o4\":\"0\"},\"temp_hi\":{\"o0\":\"0\",\"o1\":\"0\",\"o2\":\"0\",\"o3\":\"0\",\"o4\":\"0\"},\"itemp\":{\"o0\":\"0\",\"o1\":\"0\",\"o2\":\"0\",\"o3\":\"0\",\"o4\":\"0\"},\"itemp_lo\":{\"o0\":\"0\",\"o1\":\"0\",\"o2\":\"0\",\"o3\":\"0\",\"o4\":\"0\"},\"itemp_hi\":{\"o0\":\"0\",\"o1\":\"0\",\"o2\":\"0\",\"o3\":\"0\",\"o4\":\"0\"},\"hum\":{\"o0\":\"86\",\"o1\":\"87\",\"o2\":\"84\",\"o3\":\"83\",\"o4\":\"84\"},\"hum_lo\":{\"o0\":{},\"o1\":{},\"o2\":{},\"o3\":{},\"o4\":{}},\"hum_hi\":{\"o0\":{},\"o1\":{},\"o2\":{},\"o3\":{},\"o4\":{}},\"pressure\":{\"o0\":\"29.284\",\"o1\":\"29.283\",\"o2\":\"29.287\",\"o3\":\"29.289\",\"o4\":\"29.29\"},\"pressure_lo\":{\"o0\":\"0\",\"o1\":\"0\",\"o2\":\"0\",\"o3\":\"0\",\"o4\":\"0\"},\"pressure_hi\":{\"o0\":\"0\",\"o1\":\"0\",\"o2\":\"0\",\"o3\":\"0\",\"o4\":\"0\"},\"windchill\":{\"o0\":\"66.1\",\"o1\":\"67.1\",\"o2\":\"67.7\",\"o3\":\"67.4\",\"o4\":\"67.2\"},\"dewpoint\":{\"o0\":\"61.8\",\"o1\":\"63.1\",\"o2\":\"62.7\",\"o3\":\"62.1\",\"o4\":\"62.2\"},\"wind\":{\"o0\":\"0.9\",\"o1\":\"0.4\",\"o2\":\"1.4\",\"o3\":\"1.2\",\"o4\":\"1.4\"},\"wind_gust\":{\"o0\":\"3.7\",\"o1\":\"3.7\",\"o2\":\"5.6\",\"o3\":\"3.7\",\"o4\":\"4.4\"},\"wind_dir\":{\"o0\":\"199\",\"o1\":\"208\",\"o2\":\"218\",\"o3\":\"215\",\"o4\":\"233\"},\"uv\":{\"o0\":{},\"o1\":{},\"o2\":{},\"o3\":{},\"o4\":{}},\"leaf_wetness\":{\"o0\":\"323\",\"o1\":\"338\",\"o2\":\"353\",\"o3\":\"368\",\"o4\":\"383\"},\"heat_index\":{\"o0\":\"661\",\"o1\":\"671\",\"o2\":\"677\",\"o3\":\"674\",\"o4\":\"672\"},\"precip\":{\"o0\":\"0\",\"o1\":\"0\",\"o2\":\"0\",\"o3\":\"0\",\"o4\":\"0\"},\"solar_radiation\":{\"o0\":\"219\",\"o1\":\"287\",\"o2\":\"170\",\"o3\":\"147\",\"o4\":\"109\"},\"temperature_1\":{\"o0\":\"65.9\",\"o1\":\"65.9\",\"o2\":\"66.1\",\"o3\":\"66.3\",\"o4\":\"66.3\"},\"temperature_1_lo\":{\"o0\":\"0\",\"o1\":\"0\",\"o2\":\"0\",\"o3\":\"0\",\"o4\":\"0\"},\"temperature_1_hi\":{\"o0\":\"0\",\"o1\":\"0\",\"o2\":\"0\",\"o3\":\"0\",\"o4\":\"0\"},\"soil_tension\":{\"o0\":\"35\",\"o1\":\"36\",\"o2\":\"35\",\"o3\":\"35\",\"o4\":\"36\"}}\\r\\n')]\n"
                    ]
                }
            ],
            "source": [
                "# use that to get data\n",
                "wdata = station.get_readings(interval.start, interval.end)\n",
                "print(wdata)"
            ]
        },
        {
            "cell_type": "markdown",
            "metadata": {},
            "source": [
                "## raw api output\n",
                "\n",
                "let's look at what comes out of the station API for our example station.  The actual data from the api is in the responses property of the weather_data object.  This is an array as some stations return an array of responses (Davis only allows maximum 24hrs per reading)\n",
                "\n",
                "The folllowing looks at just the first response in the array\n",
                "\n"
            ]
        },
        {
            "cell_type": "code",
            "execution_count": 14,
            "metadata": {},
            "outputs": [
                {
                    "name": "stdout",
                    "output_type": "stream",
                    "text": [
                        "{'dewpoint': {'o0': '61.8',\n",
                        "              'o1': '63.1',\n",
                        "              'o2': '62.7',\n",
                        "              'o3': '62.1',\n",
                        "              'o4': '62.2'},\n",
                        " 'endts': '2023-09-11 14:00:00',\n",
                        " 'heat_index': {'o0': '661',\n",
                        "                'o1': '671',\n",
                        "                'o2': '677',\n",
                        "                'o3': '674',\n",
                        "                'o4': '672'},\n",
                        " 'hum': {'o0': '86', 'o1': '87', 'o2': '84', 'o3': '83', 'o4': '84'},\n",
                        " 'hum_hi': {'o0': {}, 'o1': {}, 'o2': {}, 'o3': {}, 'o4': {}},\n",
                        " 'hum_lo': {'o0': {}, 'o1': {}, 'o2': {}, 'o3': {}, 'o4': {}},\n",
                        " 'interval': '1',\n",
                        " 'itemp': {'o0': '0', 'o1': '0', 'o2': '0', 'o3': '0', 'o4': '0'},\n",
                        " 'itemp_hi': {'o0': '0', 'o1': '0', 'o2': '0', 'o3': '0', 'o4': '0'},\n",
                        " 'itemp_lo': {'o0': '0', 'o1': '0', 'o2': '0', 'o3': '0', 'o4': '0'},\n",
                        " 'leaf_wetness': {'o0': '323',\n",
                        "                  'o1': '338',\n",
                        "                  'o2': '353',\n",
                        "                  'o3': '368',\n",
                        "                  'o4': '383'},\n",
                        " 'precip': {'o0': '0', 'o1': '0', 'o2': '0', 'o3': '0', 'o4': '0'},\n",
                        " 'pressure': {'o0': '29.284',\n",
                        "              'o1': '29.283',\n",
                        "              'o2': '29.287',\n",
                        "              'o3': '29.289',\n",
                        "              'o4': '29.29'},\n",
                        " 'pressure_hi': {'o0': '0', 'o1': '0', 'o2': '0', 'o3': '0', 'o4': '0'},\n",
                        " 'pressure_lo': {'o0': '0', 'o1': '0', 'o2': '0', 'o3': '0', 'o4': '0'},\n",
                        " 'soil_tension': {'o0': '35', 'o1': '36', 'o2': '35', 'o3': '35', 'o4': '36'},\n",
                        " 'solar_radiation': {'o0': '219',\n",
                        "                     'o1': '287',\n",
                        "                     'o2': '170',\n",
                        "                     'o3': '147',\n",
                        "                     'o4': '109'},\n",
                        " 'startts': '2023-09-11 13:00:00',\n",
                        " 'station_id': '200000000500',\n",
                        " 'temp': {'o0': '66.1', 'o1': '67.1', 'o2': '67.7', 'o3': '67.4', 'o4': '67.2'},\n",
                        " 'temp_hi': {'o0': '0', 'o1': '0', 'o2': '0', 'o3': '0', 'o4': '0'},\n",
                        " 'temp_lo': {'o0': '0', 'o1': '0', 'o2': '0', 'o3': '0', 'o4': '0'},\n",
                        " 'temperature_1': {'o0': '65.9',\n",
                        "                   'o1': '65.9',\n",
                        "                   'o2': '66.1',\n",
                        "                   'o3': '66.3',\n",
                        "                   'o4': '66.3'},\n",
                        " 'temperature_1_hi': {'o0': '0', 'o1': '0', 'o2': '0', 'o3': '0', 'o4': '0'},\n",
                        " 'temperature_1_lo': {'o0': '0', 'o1': '0', 'o2': '0', 'o3': '0', 'o4': '0'},\n",
                        " 'times': {'o0': '2023-09-11 13:00:00',\n",
                        "           'o1': '2023-09-11 13:15:00',\n",
                        "           'o2': '2023-09-11 13:30:00',\n",
                        "           'o3': '2023-09-11 13:45:00',\n",
                        "           'o4': '2023-09-11 14:00:00'},\n",
                        " 'units': 'English',\n",
                        " 'uv': {'o0': {}, 'o1': {}, 'o2': {}, 'o3': {}, 'o4': {}},\n",
                        " 'wind': {'o0': '0.9', 'o1': '0.4', 'o2': '1.4', 'o3': '1.2', 'o4': '1.4'},\n",
                        " 'wind_dir': {'o0': '199', 'o1': '208', 'o2': '218', 'o3': '215', 'o4': '233'},\n",
                        " 'wind_gust': {'o0': '3.7', 'o1': '3.7', 'o2': '5.6', 'o3': '3.7', 'o4': '4.4'},\n",
                        " 'windchill': {'o0': '66.1',\n",
                        "               'o1': '67.1',\n",
                        "               'o2': '67.7',\n",
                        "               'o3': '67.4',\n",
                        "               'o4': '67.2'}}\n"
                    ]
                }
            ],
            "source": [
                "\n",
                "# get some JSON\n",
                "raw_response = wdata.responses[0]\n",
                "# convert that from JSON\n",
                "# print(raw_response.text)\n",
                "raw_response_data = json.loads(raw_response.text)\n",
                "pprint(raw_response_data)"
            ]
        },
        {
            "attachments": {},
            "cell_type": "markdown",
            "metadata": {},
            "source": [
                "The output from the api is a mix of the JSON output from the stations and metadata about how the request for data was made.   Each station has it's own format from the API, and we want to transform that to a standardize format for EWX. \n",
                "\n",
                "The station object stores the most recent request, and can run the `transform` method without an argument, and it will to use the latest api request, or you can send data. \n",
                "\n"
            ]
        },
        {
            "cell_type": "code",
            "execution_count": 15,
            "metadata": {},
            "outputs": [
                {
                    "name": "stderr",
                    "output_type": "stream",
                    "text": [
                        "2023-09-11 14:07:34,600-7769-DEBUG-transformed_reading type <class 'list'>: [{'data_datetime': datetime.datetime(2023, 9, 11, 17, 0, tzinfo=datetime.timezone.utc), 'atemp': 18.94, 'pcpn': 0.0, 'relh': 86.0}, {'data_datetime': datetime.datetime(2023, 9, 11, 17, 15, tzinfo=datetime.timezone.utc), 'atemp': 19.5, 'pcpn': 0.0, 'relh': 87.0}, {'data_datetime': datetime.datetime(2023, 9, 11, 17, 30, tzinfo=datetime.timezone.utc), 'atemp': 19.83, 'pcpn': 0.0, 'relh': 84.0}, {'data_datetime': datetime.datetime(2023, 9, 11, 17, 45, tzinfo=datetime.timezone.utc), 'atemp': 19.67, 'pcpn': 0.0, 'relh': 83.0}, {'data_datetime': datetime.datetime(2023, 9, 11, 18, 0, tzinfo=datetime.timezone.utc), 'atemp': 19.56, 'pcpn': 0.0, 'relh': 84.0}]\n"
                    ]
                },
                {
                    "name": "stdout",
                    "output_type": "stream",
                    "text": [
                        "('readings',\n",
                        " [WeatherStationReading(station_id='EWXRAINWISE01', station_type='RAINWISE', request_id='189726e8-6480-4b0d-84c4-f8345687b876', request_datetime=datetime.datetime(2023, 9, 11, 22, 7, 12, 663571, tzinfo=datetime.timezone.utc), time_interval=None, data_datetime=datetime.datetime(2023, 9, 11, 17, 0, tzinfo=datetime.timezone.utc), atemp=18.94, pcpn=0.0, relh=86.0, lws0=None),\n",
                        "  WeatherStationReading(station_id='EWXRAINWISE01', station_type='RAINWISE', request_id='189726e8-6480-4b0d-84c4-f8345687b876', request_datetime=datetime.datetime(2023, 9, 11, 22, 7, 12, 663571, tzinfo=datetime.timezone.utc), time_interval=None, data_datetime=datetime.datetime(2023, 9, 11, 17, 15, tzinfo=datetime.timezone.utc), atemp=19.5, pcpn=0.0, relh=87.0, lws0=None),\n",
                        "  WeatherStationReading(station_id='EWXRAINWISE01', station_type='RAINWISE', request_id='189726e8-6480-4b0d-84c4-f8345687b876', request_datetime=datetime.datetime(2023, 9, 11, 22, 7, 12, 663571, tzinfo=datetime.timezone.utc), time_interval=None, data_datetime=datetime.datetime(2023, 9, 11, 17, 30, tzinfo=datetime.timezone.utc), atemp=19.83, pcpn=0.0, relh=84.0, lws0=None),\n",
                        "  WeatherStationReading(station_id='EWXRAINWISE01', station_type='RAINWISE', request_id='189726e8-6480-4b0d-84c4-f8345687b876', request_datetime=datetime.datetime(2023, 9, 11, 22, 7, 12, 663571, tzinfo=datetime.timezone.utc), time_interval=None, data_datetime=datetime.datetime(2023, 9, 11, 17, 45, tzinfo=datetime.timezone.utc), atemp=19.67, pcpn=0.0, relh=83.0, lws0=None),\n",
                        "  WeatherStationReading(station_id='EWXRAINWISE01', station_type='RAINWISE', request_id='189726e8-6480-4b0d-84c4-f8345687b876', request_datetime=datetime.datetime(2023, 9, 11, 22, 7, 12, 663571, tzinfo=datetime.timezone.utc), time_interval=None, data_datetime=datetime.datetime(2023, 9, 11, 18, 0, tzinfo=datetime.timezone.utc), atemp=19.56, pcpn=0.0, relh=84.0, lws0=None)])\n"
                    ]
                }
            ],
            "source": [
                "readings = station.transform(wdata)\n",
                "for reading in readings:\n",
                "    pprint(reading)"
            ]
        }
    ],
    "metadata": {
        "kernelspec": {
            "display_name": ".venv",
            "language": "python",
            "name": "python3"
        },
        "language_info": {
            "codemirror_mode": {
                "name": "ipython",
                "version": 3
            },
            "file_extension": ".py",
            "mimetype": "text/x-python",
            "name": "python",
            "nbconvert_exporter": "python",
            "pygments_lexer": "ipython3",
            "version": "3.9.18"
        },
        "vscode": {
            "interpreter": {
                "hash": "762296f1eebb6e68bf685992e8c86fe9560f818abe2dca4b71d4d6f028231e3f"
            }
        }
    },
    "nbformat": 4,
    "nbformat_minor": 4
}
