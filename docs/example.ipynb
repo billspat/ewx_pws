{
    "cells": [
        {
            "attachments": {},
            "cell_type": "markdown",
            "metadata": {},
            "source": [
                "# Enviroweather Private Weather Stations Python package: `ewx_pws`\n",
                "## Example usage\n",
                "\n",
                "Using this package in a project to pull weather data you start as follows"
            ]
        },
        {
            "cell_type": "code",
            "execution_count": null,
            "metadata": {},
            "outputs": [],
            "source": [
                "from ewx_pws import ewx_pws\n",
                "\n",
                "print(ewx_pws.__version__)"
            ]
        },
        {
            "attachments": {},
            "cell_type": "markdown",
            "metadata": {},
            "source": [
                "This package works with the following station types:"
            ]
        },
        {
            "cell_type": "code",
            "execution_count": null,
            "metadata": {},
            "outputs": [],
            "source": [
                "print(ewx_pws.STATION_TYPES)"
            ]
        },
        {
            "attachments": {},
            "cell_type": "markdown",
            "metadata": {},
            "source": [
                "The main function accepts configuration information for one or more weather stations API (clouds), \n",
                "and uses that to connect to the API for that station and pull data for a specific time interval. \n",
                "\n",
                "The configuration can be saved in a CSV file, in the environment (OS variables), or in the future in a database table. \n",
                "\n",
                "This example usage notebook assumes the values are in the environment.  This can be acheived by putting the \n",
                "configuration in a file named `.env` in the root of this folder.    See documentation for Python dotenv package for more info\n",
                "\n",
                "The file must be in the format :  (TBD)\n",
                "\n",
                "The main package automatically looks for and loads this file. "
            ]
        },
        {
            "cell_type": "code",
            "execution_count": null,
            "metadata": {},
            "outputs": [],
            "source": [
                "# load weather station configuration from an environment file\n",
                "\n",
                "stations = ewx_pws.stations_from_env()"
            ]
        },
        {
            "attachments": {},
            "cell_type": "markdown",
            "metadata": {},
            "source": [
                "Get sample weather from the previous 15 minute period (e.g. if it's 1:17, then from 1:00 to 1:15)"
            ]
        },
        {
            "cell_type": "code",
            "execution_count": null,
            "metadata": {},
            "outputs": [],
            "source": [
                "# get weather for these stations, leveraging the MultiweatherAPI python package\n",
                "\n",
                "weather_readings = ewx_pws.get_readings(stations)\n"
            ]
        },
        {
            "attachments": {},
            "cell_type": "markdown",
            "metadata": {},
            "source": [
                "The output from MultiweatherAPI is a mix of the JSON output from the stations, and transformed data.  \n",
                "\n",
                "let's look at just the transformed"
            ]
        },
        {
            "cell_type": "code",
            "execution_count": null,
            "metadata": {},
            "outputs": [],
            "source": [
                "for reading in weather_readings:\n",
                "    print(f\"Data from station {reading['station_id']}\")\n",
                "    print(\"----------\")\n",
                "    print(reading['data'])\n",
                "    "
            ]
        }
    ],
    "metadata": {
        "kernelspec": {
            "display_name": ".venv",
            "language": "python",
            "name": "python3"
        },
        "language_info": {
            "codemirror_mode": {
                "name": "ipython",
                "version": 3
            },
            "file_extension": ".py",
            "mimetype": "text/x-python",
            "name": "python",
            "nbconvert_exporter": "python",
            "pygments_lexer": "ipython3",
            "version": "3.9.16"
        },
        "vscode": {
            "interpreter": {
                "hash": "762296f1eebb6e68bf685992e8c86fe9560f818abe2dca4b71d4d6f028231e3f"
            }
        }
    },
    "nbformat": 4,
    "nbformat_minor": 4
}
